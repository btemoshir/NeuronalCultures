{
 "cells": [
  {
   "cell_type": "markdown",
   "metadata": {},
   "source": [
    "## Percolating Edges of the Network and activity based results.\n",
    "\n",
    "### This notebook simulates the activity as we remove edges from cells which are the first to fire - burst_initiators.## Percolating Edges of the Network and activity based results"
   ]
  },
  {
   "cell_type": "code",
   "execution_count": 1,
   "metadata": {},
   "outputs": [
    {
     "data": {
      "text/plain": [
       "<module 'modules.analysis' from '/home/ele/Moshir/modules/analysis.py'>"
      ]
     },
     "execution_count": 1,
     "metadata": {},
     "output_type": "execute_result"
    }
   ],
   "source": [
    "import numpy as np\n",
    "import scipy as sc\n",
    "import matplotlib.pyplot as plt\n",
    "%matplotlib inline\n",
    "import multiprocessing\n",
    "\n",
    "import nngt\n",
    "import nest\n",
    "nngt.set_config('with_nest', True)\n",
    "import nngt.simulation as ns\n",
    "from pathlib import Path\n",
    "import networkx as nx\n",
    "\n",
    "from modules import simulation as nsim\n",
    "from modules import percolation as per\n",
    "from modules import analysis\n",
    "\n",
    "from importlib import reload\n",
    "#reload(nsim)\n",
    "#reload(per)\n",
    "reload(analysis)"
   ]
  },
  {
   "cell_type": "code",
   "execution_count": 2,
   "metadata": {},
   "outputs": [
    {
     "name": "stdout",
     "output_type": "stream",
     "text": [
      "{'w': 37.0, 'V_m': -51.0, 'E_L': -70.0, 'I_e': 262.0, 'g_L': 12.01, 'C_m': 200.0, 'a': 2.0, 'V_th': -50.0, 'V_reset': -48.0, 'Delta_T': 1.8, 'b': 70.0, 'tau_w': 300.0, 'V_peak': 30.0, 'tau_syn_ex': 0.2, 't_ref': 2.0, 'nb_neurons': 500}\n"
     ]
    }
   ],
   "source": [
    "num_omp = multiprocessing.cpu_count() #Number of cores on the system\n",
    "\n",
    "# network Parameters\n",
    "w = 50.\n",
    "ds = 0.01\n",
    "do = 2.\n",
    "deg = 50.\n",
    "N = 500\n",
    "l = 50.\n",
    "R = 1000\n",
    "\n",
    "from fromMallory.Neurons_Parameters import di_RS\n",
    "\n",
    "params = di_RS\n",
    "params['nb_neurons'] = N\n",
    "print(params)"
   ]
  },
  {
   "cell_type": "code",
   "execution_count": null,
   "metadata": {
    "scrolled": false
   },
   "outputs": [],
   "source": [
    "%%capture out1\n",
    "\n",
    "params['nb_neurons'] = N\n",
    "\n",
    "net = nsim.Make_Network(None, num_omp = num_omp, culture_radius = R, num_neurons = N, \\\n",
    "                        avg_deg = deg, lambda_edr = l, delay_slope = ds, delay_offset = do, syn_weight = w,\\\n",
    "                        neuron_params = {'neuron' : params}, plot_degrees=False, plot_delays=False)\n",
    "\n",
    "frac,scc,deg,ending,gc,BP = analysis.percolation_netw_statistics(net, method_removal='out-degree', spacing=0.005, lspac=250, starting=0.70,\\\n",
    "                                params=params, plot_ssc=True, plot_gc=True, activity = True, plot_activity = False)"
   ]
  },
  {
   "cell_type": "code",
   "execution_count": 1,
   "metadata": {},
   "outputs": [
    {
     "ename": "NameError",
     "evalue": "name 'out1' is not defined",
     "output_type": "error",
     "traceback": [
      "\u001b[0;31m---------------------------------------------------------------------------\u001b[0m",
      "\u001b[0;31mNameError\u001b[0m                                 Traceback (most recent call last)",
      "\u001b[0;32m<ipython-input-1-04aca8632b6f>\u001b[0m in \u001b[0;36m<module>\u001b[0;34m\u001b[0m\n\u001b[0;32m----> 1\u001b[0;31m \u001b[0mout1\u001b[0m\u001b[0;34m.\u001b[0m\u001b[0mshow\u001b[0m\u001b[0;34m(\u001b[0m\u001b[0;34m)\u001b[0m\u001b[0;34m\u001b[0m\u001b[0;34m\u001b[0m\u001b[0m\n\u001b[0m",
      "\u001b[0;31mNameError\u001b[0m: name 'out1' is not defined"
     ]
    }
   ],
   "source": [
    "out1.show()"
   ]
  },
  {
   "cell_type": "code",
   "execution_count": 2,
   "metadata": {},
   "outputs": [
    {
     "ename": "NameError",
     "evalue": "name 'analysis' is not defined",
     "output_type": "error",
     "traceback": [
      "\u001b[0;31m---------------------------------------------------------------------------\u001b[0m",
      "\u001b[0;31mNameError\u001b[0m                                 Traceback (most recent call last)",
      "\u001b[0;32m<ipython-input-2-43a746da3e74>\u001b[0m in \u001b[0;36m<module>\u001b[0;34m\u001b[0m\n\u001b[0;32m----> 1\u001b[0;31m \u001b[0manalysis\u001b[0m\u001b[0;34m.\u001b[0m\u001b[0mplot_activity_properties\u001b[0m\u001b[0;34m(\u001b[0m\u001b[0mfrac\u001b[0m\u001b[0;34m,\u001b[0m\u001b[0mscc\u001b[0m\u001b[0;34m,\u001b[0m\u001b[0mdeg\u001b[0m\u001b[0;34m,\u001b[0m\u001b[0mending\u001b[0m\u001b[0;34m,\u001b[0m\u001b[0mgc\u001b[0m\u001b[0;34m,\u001b[0m\u001b[0mBP\u001b[0m\u001b[0;34m)\u001b[0m\u001b[0;34m\u001b[0m\u001b[0;34m\u001b[0m\u001b[0m\n\u001b[0m",
      "\u001b[0;31mNameError\u001b[0m: name 'analysis' is not defined"
     ]
    }
   ],
   "source": [
    "analysis.plot_activity_properties(frac,scc,deg,ending,gc,BP)"
   ]
  },
  {
   "cell_type": "code",
   "execution_count": null,
   "metadata": {},
   "outputs": [],
   "source": []
  }
 ],
 "metadata": {
  "kernelspec": {
   "display_name": "Python 3",
   "language": "python",
   "name": "python3"
  },
  "language_info": {
   "codemirror_mode": {
    "name": "ipython",
    "version": 3
   },
   "file_extension": ".py",
   "mimetype": "text/x-python",
   "name": "python",
   "nbconvert_exporter": "python",
   "pygments_lexer": "ipython3",
   "version": "3.6.7"
  }
 },
 "nbformat": 4,
 "nbformat_minor": 2
}
