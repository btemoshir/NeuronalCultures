{
 "cells": [
  {
   "cell_type": "code",
   "execution_count": 2,
   "metadata": {},
   "outputs": [],
   "source": [
    "import nest\n",
    "import matplotlib.pyplot as plt\n",
    "%matplotlib inline\n",
    "import numpy as np\n",
    "import scipy as sc\n",
    "import nest.topology as topp"
   ]
  },
  {
   "cell_type": "code",
   "execution_count": 4,
   "metadata": {},
   "outputs": [],
   "source": [
    "my_layer_dict = {\"extent\": [2.,2.], \"rows\": 10, \"columns\": 10, \"elements\":\"iaf_psc_alpha\"}\n",
    "my_layer = topp.CreateLayer(my_layer_dict)"
   ]
  },
  {
   "cell_type": "code",
   "execution_count": 8,
   "metadata": {},
   "outputs": [],
   "source": [
    "jit = 0.03\n",
    "xs = np.arange(-0.5, 0.501,0.1)\n",
    "poss = [[x,y] for y in xs for x in xs]\n",
    "poss = [[p[0] + np.random.uniform(-jit,jit), p[1] + np.random.uniform(-jit,jit)] for p in poss]\n",
    "\n",
    "layer_dict_ex = {\"positions\": poss, \"extent\": [1.1,1.1],\"elements\": \"iaf_psc_alpha\"}"
   ]
  },
  {
   "cell_type": "code",
   "execution_count": 9,
   "metadata": {},
   "outputs": [],
   "source": [
    "nest.CopyModel(\"iaf_psc_alpha\",\"pyr\")\n",
    "nest.CopyModel(\"iaf_psc_alpha\",\"inh\",{\"V_th\":-52.})\n",
    "comp_layer = topp.CreateLayer({\"rows\":5,\"columns\":5, \"elements\":[\"pyr\",4,\"inh\",\"poisson_generator\",\"noise_generator\"]})"
   ]
  },
  {
   "cell_type": "code",
   "execution_count": 11,
   "metadata": {},
   "outputs": [],
   "source": [
    "ex_layer = topp.CreateLayer({\"rows\":5, \"columns\": 5, \"elements\":\"iaf_psc_alpha\"})\n",
    "in_layer = topp.CreateLayer({\"rows\": 4, \"columns\": 4, \"elements\":\"iaf_psc_alpha\"})\n",
    "conn_dict_ex = {\"connection_type\": \"divergent\",\"mask\":{\"circular\":{\"radius\":0.5}}}\n",
    "\n",
    "topp.ConnectLayers(ex_layer,in_layer,conn_dict_ex)\n",
    "\n",
    "conn_dict_in = {\"connection_type\":\"divergent\",\"mask\":{\"circular\":{\"radius\": 0.75}},\"weights\":-4.}\n",
    "\n",
    "topp.ConnectLayers(ex_layer,ex_layer,conn_dict_ex)\n",
    "topp.ConnectLayers(in_layer,in_layer,conn_dict_in)\n",
    "topp.ConnectLayers(in_layer,ex_layer,conn_dict_in)"
   ]
  },
  {
   "cell_type": "code",
   "execution_count": null,
   "metadata": {},
   "outputs": [],
   "source": []
  }
 ],
 "metadata": {
  "kernelspec": {
   "display_name": "Python 3",
   "language": "python",
   "name": "python3"
  },
  "language_info": {
   "codemirror_mode": {
    "name": "ipython",
    "version": 3
   },
   "file_extension": ".py",
   "mimetype": "text/x-python",
   "name": "python",
   "nbconvert_exporter": "python",
   "pygments_lexer": "ipython3",
   "version": "3.5.4"
  }
 },
 "nbformat": 4,
 "nbformat_minor": 2
}
